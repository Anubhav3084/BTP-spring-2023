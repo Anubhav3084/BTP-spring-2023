{
  "cells": [
    {
      "cell_type": "code",
      "execution_count": 1,
      "metadata": {
        "colab": {
          "base_uri": "https://localhost:8080/"
        },
        "id": "S5giOq9qddEz",
        "outputId": "7c3e82a6-bbc9-48e9-f552-85ddb88c3a00"
      },
      "outputs": [
        {
          "name": "stderr",
          "output_type": "stream",
          "text": [
            "/home/anubhav/anaconda3/envs/BTP/lib/python3.10/site-packages/tqdm/auto.py:22: TqdmWarning: IProgress not found. Please update jupyter and ipywidgets. See https://ipywidgets.readthedocs.io/en/stable/user_install.html\n",
            "  from .autonotebook import tqdm as notebook_tqdm\n"
          ]
        },
        {
          "name": "stdout",
          "output_type": "stream",
          "text": [
            "Thu Mar  2 19:22:05 2023       \n",
            "+-----------------------------------------------------------------------------+\n",
            "| NVIDIA-SMI 450.216.04   Driver Version: 450.216.04   CUDA Version: 11.0     |\n",
            "|-------------------------------+----------------------+----------------------+\n",
            "| GPU  Name        Persistence-M| Bus-Id        Disp.A | Volatile Uncorr. ECC |\n",
            "| Fan  Temp  Perf  Pwr:Usage/Cap|         Memory-Usage | GPU-Util  Compute M. |\n",
            "|                               |                      |               MIG M. |\n",
            "|===============================+======================+======================|\n",
            "|   0  GeForce GTX 108...  Off  | 00000000:03:00.0  On |                  N/A |\n",
            "| 37%   63C    P2    65W / 250W |   1316MiB / 11177MiB |     10%      Default |\n",
            "|                               |                      |                  N/A |\n",
            "+-------------------------------+----------------------+----------------------+\n",
            "|   1  GeForce GTX 108...  Off  | 00000000:81:00.0 Off |                  N/A |\n",
            "|  0%   57C    P8    14W / 250W |     14MiB / 11178MiB |      0%      Default |\n",
            "|                               |                      |                  N/A |\n",
            "+-------------------------------+----------------------+----------------------+\n",
            "|   2  GeForce GTX 108...  Off  | 00000000:82:00.0 Off |                  N/A |\n",
            "|  0%   53C    P8    11W / 250W |     14MiB / 11178MiB |      0%      Default |\n",
            "|                               |                      |                  N/A |\n",
            "+-------------------------------+----------------------+----------------------+\n",
            "                                                                               \n",
            "+-----------------------------------------------------------------------------+\n",
            "| Processes:                                                                  |\n",
            "|  GPU   GI   CI        PID   Type   Process name                  GPU Memory |\n",
            "|        ID   ID                                                   Usage      |\n",
            "|=============================================================================|\n",
            "|    0   N/A  N/A      1424      G   /usr/lib/xorg/Xorg                 35MiB |\n",
            "|    0   N/A  N/A      2104      G   /usr/lib/xorg/Xorg                112MiB |\n",
            "|    0   N/A  N/A      2241      G   /usr/bin/gnome-shell              188MiB |\n",
            "|    0   N/A  N/A      5464      G   /usr/lib/firefox/firefox           68MiB |\n",
            "|    0   N/A  N/A      6008      G   ...566846410223755805,131072       96MiB |\n",
            "|    0   N/A  N/A     10735      C   ...onda3/envs/BTP/bin/python      799MiB |\n",
            "|    1   N/A  N/A      1424      G   /usr/lib/xorg/Xorg                  4MiB |\n",
            "|    1   N/A  N/A      2104      G   /usr/lib/xorg/Xorg                  4MiB |\n",
            "|    2   N/A  N/A      1424      G   /usr/lib/xorg/Xorg                  4MiB |\n",
            "|    2   N/A  N/A      2104      G   /usr/lib/xorg/Xorg                  4MiB |\n",
            "+-----------------------------------------------------------------------------+\n"
          ]
        }
      ],
      "source": [
        "# %load_ext tensorboard\n",
        "import os\n",
        "import numpy as np\n",
        "import matplotlib\n",
        "import matplotlib.pyplot as plt\n",
        "import copy\n",
        "import random\n",
        "import time\n",
        "from tqdm import tqdm\n",
        "\n",
        "import torch\n",
        "import torch.nn as nn\n",
        "import torch.nn.functional as F\n",
        "\n",
        "from torch.utils.data import Dataset, DataLoader\n",
        "# from torch.utils.tensorboard import SummaryWriter\n",
        "from torchvision import transforms, utils, datasets\n",
        "# from torchsummary import summary\n",
        "\n",
        "\n",
        "# Check assigned GPU\n",
        "gpu_info = !nvidia-smi\n",
        "gpu_info = '\\n'.join(gpu_info)\n",
        "if gpu_info.find('failed') >= 0:\n",
        "  print('Select the Runtime > \"Change runtime type\" menu to enable a GPU accelerator, ')\n",
        "  print('and then re-execute this cell.')\n",
        "else:\n",
        "  print(gpu_info)\n",
        "\n",
        "# set manual seed for reproducibility\n",
        "seed = 42\n",
        "\n",
        "# general reproducibility\n",
        "random.seed(seed)\n",
        "np.random.seed(seed)\n",
        "torch.manual_seed(seed)\n",
        "\n",
        "# gpu training specific\n",
        "torch.backends.cudnn.deterministic = True\n",
        "torch.backends.cudnn.benchmark = False"
      ]
    },
    {
      "cell_type": "code",
      "execution_count": 2,
      "metadata": {
        "id": "agB_KJkodjgS"
      },
      "outputs": [],
      "source": [
        "# create transforms\n",
        "# We will just convert to tensor and normalize since no special transforms are mentioned in the paper\n",
        "transforms_mnist = transforms.Compose([\n",
        "                                        transforms.Resize(32),\n",
        "                                        transforms.ToTensor(),\n",
        "                                        transforms.Normalize((0.1307,), (0.3081,))\n",
        "                                       ])\n",
        "\n",
        "mnist_data_train = datasets.MNIST('./data/mnist/', train=True, download=False, transform=transforms_mnist)\n",
        "mnist_data_test = datasets.MNIST('./data/mnist/', train=False, download=False, transform=transforms_mnist)"
      ]
    },
    {
      "cell_type": "code",
      "execution_count": 3,
      "metadata": {
        "colab": {
          "base_uri": "https://localhost:8080/"
        },
        "id": "Hiq_yIvVd1_3",
        "outputId": "41d3fc74-d52f-454e-f009-113e8eb826b1"
      },
      "outputs": [
        {
          "name": "stdout",
          "output_type": "stream",
          "text": [
            "Classes: [0 1 2 3 4 5 6 7 8 9] \tType: <class 'numpy.ndarray'>\n",
            "Classes Test: [0 1 2 3 4 5 6 7 8 9] \tType: <class 'numpy.ndarray'>\n"
          ]
        }
      ],
      "source": [
        "classes_mnist = np.array(list(mnist_data_train.class_to_idx.values()))\n",
        "classes_test_mnist = np.array(list(mnist_data_test.class_to_idx.values()))\n",
        "num_classes_mnist = len(classes_test_mnist)\n",
        "print(\"Classes: {} \\tType: {}\".format(classes_mnist, type(classes_mnist)))\n",
        "print(\"Classes Test: {} \\tType: {}\".format(classes_test_mnist, type(classes_mnist)))"
      ]
    },
    {
      "cell_type": "code",
      "execution_count": 4,
      "metadata": {
        "colab": {
          "base_uri": "https://localhost:8080/"
        },
        "id": "daQI3OIPfOZv",
        "outputId": "6e5b9a47-4c33-4bbd-f1e9-0c2e94c8e326"
      },
      "outputs": [
        {
          "name": "stdout",
          "output_type": "stream",
          "text": [
            "Image Shape MNIST: torch.Size([28, 28])\n"
          ]
        }
      ],
      "source": [
        "print(\"Image Shape MNIST: {}\".format(mnist_data_train.data[0].shape))"
      ]
    },
    {
      "cell_type": "markdown",
      "metadata": {
        "id": "Xc7LET03i-yC"
      },
      "source": [
        "## Partitioning the Data (IID and non-IID)"
      ]
    },
    {
      "cell_type": "code",
      "execution_count": 5,
      "metadata": {
        "id": "tXbBT_r8htOK"
      },
      "outputs": [],
      "source": [
        "def iid_partition(dataset, clients):\n",
        "    \n",
        "    num_items_per_client = int(len(dataset)/clients)\n",
        "    client_dict = {}\n",
        "    image_idxs = [i for i in range(len(dataset))]\n",
        "\n",
        "    for i in range(clients):\n",
        "        client_dict[i] = set(np.random.choice(image_idxs, num_items_per_client, replace=False))\n",
        "        image_idxs = list(set(image_idxs) - client_dict[i])\n",
        "    \n",
        "    return client_dict"
      ]
    },
    {
      "cell_type": "code",
      "execution_count": 6,
      "metadata": {
        "id": "H1EO8EBxi9vD"
      },
      "outputs": [],
      "source": [
        "def non_iid_partition(dataset, clients, total_shards, shards_size, num_shards_per_client, dtype=None):\n",
        "    \n",
        "    shard_idxs = [i for i in range(total_shards)]\n",
        "    client_dict = {i: np.array([], dtype='int64') for i in range(clients)}\n",
        "    idxs = np.arange(len(dataset))\n",
        "    # print(len(idxs))\n",
        "    if dtype == 'CIFAR10':\n",
        "        data_labels = np.array(dataset.targets)\n",
        "    elif dtype == 'MNIST':\n",
        "        data_labels = dataset.targets.numpy()\n",
        "    else:\n",
        "        raise NotImplementedError\n",
        "\n",
        "    # sort the labels\n",
        "    label_idxs = np.vstack((idxs, data_labels))\n",
        "    label_idxs = label_idxs[:, label_idxs[1,:].argsort()]\n",
        "    idxs = label_idxs[0,:]\n",
        "\n",
        "    # divide the data into total_shards of size shards_size\n",
        "    # assign num_shards_per_client to each client\n",
        "    for i in range(clients):\n",
        "        rand_set = set(np.random.choice(shard_idxs, num_shards_per_client, replace=False))\n",
        "        shard_idxs = list(set(shard_idxs) - rand_set)\n",
        "\n",
        "        for rand in rand_set:\n",
        "            client_dict[i] = np.concatenate((client_dict[i], idxs[rand*shards_size:(rand+1)*shards_size]), axis=0)\n",
        "  \n",
        "    return client_dict"
      ]
    },
    {
      "cell_type": "code",
      "execution_count": 7,
      "metadata": {
        "id": "LSKZU-RGANWm"
      },
      "outputs": [],
      "source": [
        "class CustomDataset(Dataset):\n",
        "  def __init__(self, dataset, idxs):\n",
        "      self.dataset = dataset\n",
        "      self.idxs = list(idxs)\n",
        "\n",
        "  def __len__(self):\n",
        "      return len(self.idxs)\n",
        "\n",
        "  def __getitem__(self, item):\n",
        "      image, label = self.dataset[self.idxs[item]]\n",
        "      return image, label"
      ]
    },
    {
      "cell_type": "markdown",
      "metadata": {
        "id": "HgkvekjMjGPx"
      },
      "source": [
        "## Models"
      ]
    },
    {
      "cell_type": "code",
      "execution_count": 8,
      "metadata": {
        "id": "JywcsGFXjChi"
      },
      "outputs": [],
      "source": [
        "class LeNet(nn.Module):\n",
        "\n",
        "    def __init__(self):\n",
        "        super().__init__()\n",
        "        \n",
        "        self.conv1 = nn.Conv2d(1, 6, kernel_size=5, stride=1, padding=0)\n",
        "        self.maxpool1 = nn.MaxPool2d(kernel_size=2, stride=2)\n",
        "        self.conv2 = nn.Conv2d(6, 16, kernel_size=5, stride=1, padding=0)\n",
        "        self.maxpool2 = nn.MaxPool2d(kernel_size=2, stride=2)\n",
        "        self.flatten = nn.Flatten()\n",
        "        self.linear1 = nn.Linear(400, 120)\n",
        "        self.linear2 = nn.Linear(120, 84)\n",
        "        self.linear3 = nn.Linear(84, 10)\n",
        "        self.sigmoid = nn.Sigmoid()\n",
        "\n",
        "    def forward(self, x):\n",
        "        x = self.conv1(x)\n",
        "        x = self.maxpool1(x)\n",
        "        x = self.conv2(x)\n",
        "        x = self.maxpool2(x)\n",
        "        x = self.flatten(x)\n",
        "        x = self.linear1(x)\n",
        "        x = self.linear2(x)\n",
        "        x = self.linear3(x)\n",
        "        out = self.sigmoid(x)\n",
        "        return out"
      ]
    },
    {
      "cell_type": "markdown",
      "metadata": {
        "id": "ISzYajbQkP6j"
      },
      "source": [
        "## Federated Averaging"
      ]
    },
    {
      "cell_type": "markdown",
      "metadata": {
        "id": "BfEvKGSrkUVQ"
      },
      "source": [
        "### Local Training (Client Update)"
      ]
    },
    {
      "cell_type": "code",
      "execution_count": 9,
      "metadata": {
        "id": "UgWvep8OkAzB"
      },
      "outputs": [],
      "source": [
        "class ClientUpdate(object):\n",
        "  def __init__(self, dataset, batchSize, learning_rate, epochs, idxs):\n",
        "    self.train_loader = DataLoader(CustomDataset(dataset, idxs), batch_size=batchSize, shuffle=True)\n",
        "\n",
        "    self.learning_rate = learning_rate\n",
        "    self.epochs = epochs\n",
        "\n",
        "  def train(self, model):\n",
        "\n",
        "    criterion = nn.CrossEntropyLoss()\n",
        "    optimizer = torch.optim.SGD(model.parameters(), lr=self.learning_rate, momentum=0.5)\n",
        "    # optimizer = torch.optim.Adam(model.parameters(), lr=self.learning_rate)\n",
        "\n",
        "    e_loss = []\n",
        "    for epoch in range(1, self.epochs+1):\n",
        "\n",
        "      train_loss = 0.0\n",
        "\n",
        "      model.train()\n",
        "      for data, labels in self.train_loader:\n",
        "\n",
        "        if torch.cuda.is_available():\n",
        "          data, labels = data.cuda(), labels.cuda()\n",
        "\n",
        "        # clear the gradients\n",
        "        optimizer.zero_grad()\n",
        "        # make a forward pass\n",
        "        output = model(data)\n",
        "        # calculate the loss\n",
        "        loss = criterion(output, labels)\n",
        "        # do a backwards pass\n",
        "        loss.backward()\n",
        "        # perform a single optimization step\n",
        "        optimizer.step()\n",
        "        # update training loss\n",
        "        train_loss += loss.item()*data.size(0)\n",
        "\n",
        "      # average losses\n",
        "      train_loss = train_loss/len(self.train_loader.dataset)\n",
        "      e_loss.append(train_loss)\n",
        "\n",
        "    total_loss = sum(e_loss)/len(e_loss)\n",
        "\n",
        "    return model.state_dict(), total_loss"
      ]
    },
    {
      "cell_type": "markdown",
      "metadata": {
        "id": "kpvXjE-4kcIS"
      },
      "source": [
        "### Server side training"
      ]
    },
    {
      "cell_type": "code",
      "execution_count": 10,
      "metadata": {
        "id": "nQf9Cj93kZQO"
      },
      "outputs": [],
      "source": [
        "def training(model, rounds, batch_size, lr, ds, data_dict, C, K, E, plt_title=None, plt_color=None):\n",
        "\n",
        "  # global model weights\n",
        "  global_weights = model.state_dict()\n",
        "\n",
        "  # training loss\n",
        "  train_loss = []\n",
        "  \n",
        "  # measure time\n",
        "  start = time.time()\n",
        "\n",
        "  for curr_round in tqdm(range(1, rounds+1)):\n",
        "    w, local_loss = [], []\n",
        "\n",
        "    m = max(int(C*K), 1)\n",
        "    \n",
        "    S_t = np.random.choice(range(K), m, replace=False)\n",
        "    for k in S_t:\n",
        "      local_update = ClientUpdate(dataset=ds, batchSize=batch_size, learning_rate=lr, epochs=E, idxs=data_dict[k])\n",
        "      weights, loss = local_update.train(model=copy.deepcopy(model))\n",
        "\n",
        "      w.append(copy.deepcopy(weights))\n",
        "      local_loss.append(copy.deepcopy(loss))\n",
        "\n",
        "    # updating the global weights\n",
        "    weights_avg = copy.deepcopy(w[0])\n",
        "    for k in weights_avg.keys():\n",
        "      for i in range(1, len(w)):\n",
        "        weights_avg[k] += w[i][k]\n",
        "\n",
        "      weights_avg[k] = torch.div(weights_avg[k], len(w))\n",
        "\n",
        "    global_weights = weights_avg\n",
        "\n",
        "    # move the updated weights to our model state dict\n",
        "    model.load_state_dict(global_weights)\n",
        "\n",
        "    # loss\n",
        "    loss_avg = sum(local_loss) / len(local_loss)\n",
        "    # print('Round: {}... \\tAverage Loss: {}'.format(curr_round, round(loss_avg, 3)))\n",
        "    train_loss.append(loss_avg)\n",
        "\n",
        "  end = time.time()\n",
        "  # fig, ax = plt.subplots()\n",
        "  # x_axis = np.arange(1, rounds+1)\n",
        "  # y_axis = np.array(train_loss)\n",
        "  # ax.plot(x_axis, y_axis, 'tab:'+plt_color)\n",
        "\n",
        "  # ax.set(xlabel='Number of Rounds', ylabel='Train Loss',\n",
        "  #      title=plt_title)\n",
        "  # ax.grid()\n",
        "  # fig.savefig(plt_title+'.jpg', format='jpg')\n",
        "  print(\"Training Done!\")\n",
        "  print(\"Total time taken to Train: {}\".format(end-start))\n",
        "  \n",
        "  return model, train_loss"
      ]
    },
    {
      "cell_type": "markdown",
      "metadata": {
        "id": "rHG6bKL6kj_b"
      },
      "source": [
        "## Testing Loop"
      ]
    },
    {
      "cell_type": "code",
      "execution_count": 11,
      "metadata": {
        "id": "NaTTVMjakf0I"
      },
      "outputs": [],
      "source": [
        "def testing(model, dataset, bs, criterion, num_classes, classes):\n",
        "  #test loss \n",
        "  test_loss = 0.0\n",
        "  correct_class = list(0. for i in range(num_classes))\n",
        "  total_class = list(0. for i in range(num_classes))\n",
        "\n",
        "  test_loader = DataLoader(dataset, batch_size=bs)\n",
        "  l = len(test_loader)\n",
        "  model.eval()\n",
        "  for data, labels in test_loader:\n",
        "\n",
        "    if torch.cuda.is_available():\n",
        "      data, labels = data.cuda(), labels.cuda()\n",
        "\n",
        "    output = model(data)\n",
        "    loss = criterion(output, labels)\n",
        "    test_loss += loss.item()*data.size(0)\n",
        "\n",
        "    _, pred = torch.max(output, 1)\n",
        "\n",
        "    correct_tensor = pred.eq(labels.data.view_as(pred))\n",
        "    correct = np.squeeze(correct_tensor.numpy()) if not torch.cuda.is_available() else np.squeeze(correct_tensor.cpu().numpy())\n",
        "\n",
        "    #test accuracy for each object class\n",
        "    for i in range(num_classes):\n",
        "      label = labels.data[i]\n",
        "      correct_class[label] += correct[i].item()\n",
        "      total_class[label] += 1\n",
        "    \n",
        "  # avg test loss\n",
        "  test_loss = test_loss/len(test_loader.dataset)\n",
        "  print(\"Test Loss: {:.6f}\\n\".format(test_loss))\n",
        "\n",
        "  # print test accuracy\n",
        "  for i in range(10):\n",
        "    if total_class[i]>0:\n",
        "      print('Test Accuracy of %5s: %2d%% (%2d/%2d)' % \n",
        "            (classes[i], 100 * correct_class[i] / total_class[i],\n",
        "            np.sum(correct_class[i]), np.sum(total_class[i])))\n",
        "    else:\n",
        "      print('Test Accuracy of %5s: N/A (no training examples)' % (classes[i]))\n",
        "\n",
        "  print('\\nFinal Test  Accuracy: {:.3f} ({}/{})'.format(\n",
        "        100. * np.sum(correct_class) / np.sum(total_class),\n",
        "        np.sum(correct_class), np.sum(total_class)))"
      ]
    },
    {
      "cell_type": "markdown",
      "metadata": {
        "id": "TY0jlXVZkpXG"
      },
      "source": [
        "## MNIST"
      ]
    },
    {
      "cell_type": "code",
      "execution_count": 12,
      "metadata": {
        "id": "zACvKqkmBbPV"
      },
      "outputs": [],
      "source": [
        "rounds = 100\n",
        "C = 0.1\n",
        "K = 100\n",
        "batch_size = 10\n",
        "lr=0.01"
      ]
    },
    {
      "attachments": {},
      "cell_type": "markdown",
      "metadata": {
        "id": "afI-0N__myBB"
      },
      "source": [
        "### Train (IID)\n"
      ]
    },
    {
      "cell_type": "code",
      "execution_count": 14,
      "metadata": {
        "colab": {
          "base_uri": "https://localhost:8080/",
          "height": 1000
        },
        "id": "-Hl0S8G2kmf6",
        "outputId": "820205e9-873c-4f90-8a93-7fc81e01d238"
      },
      "outputs": [
        {
          "name": "stdout",
          "output_type": "stream",
          "text": [
            "Training start, E = 1\n"
          ]
        },
        {
          "name": "stderr",
          "output_type": "stream",
          "text": [
            "100%|██████████| 100/100 [06:05<00:00,  3.65s/it]\n"
          ]
        },
        {
          "name": "stdout",
          "output_type": "stream",
          "text": [
            "Training Done!\n",
            "Total time taken to Train: 365.1825318336487\n",
            "----------------------\n",
            "\n",
            "Training start, E = 5\n"
          ]
        },
        {
          "name": "stderr",
          "output_type": "stream",
          "text": [
            "100%|██████████| 100/100 [30:57<00:00, 18.57s/it]\n"
          ]
        },
        {
          "name": "stdout",
          "output_type": "stream",
          "text": [
            "Training Done!\n",
            "Total time taken to Train: 1857.0940957069397\n",
            "----------------------\n",
            "\n",
            "Training start, E = 10\n"
          ]
        },
        {
          "name": "stderr",
          "output_type": "stream",
          "text": [
            "100%|██████████| 100/100 [1:00:17<00:00, 36.18s/it]"
          ]
        },
        {
          "name": "stdout",
          "output_type": "stream",
          "text": [
            "Training Done!\n",
            "Total time taken to Train: 3617.9607813358307\n",
            "----------------------\n",
            "\n"
          ]
        },
        {
          "name": "stderr",
          "output_type": "stream",
          "text": [
            "\n"
          ]
        }
      ],
      "source": [
        "iid_dict = iid_partition(mnist_data_train, 100)\n",
        "model_e_1 = LeNet()\n",
        "model_e_5 = LeNet()\n",
        "model_e_10 = LeNet()\n",
        "model_e_20 = LeNet()\n",
        "\n",
        "if torch.cuda.is_available():\n",
        "  model_e_1.cuda()\n",
        "  model_e_5.cuda()\n",
        "  model_e_10.cuda()\n",
        "  model_e_20.cuda()\n",
        "\n",
        "\n",
        "E = 1\n",
        "print(\"Training start, E = {}\".format(E))\n",
        "mnist_iid_e_1, train_loss_1 = training(model_e_1, rounds, batch_size, lr, mnist_data_train, iid_dict, C, K, E)\n",
        "print(\"----------------------\")\n",
        "print()\n",
        "\n",
        "E = 5\n",
        "print(\"Training start, E = {}\".format(E))\n",
        "mnist_iid_e_5, train_loss_5 = training(model_e_5, rounds, batch_size, lr, mnist_data_train, iid_dict, C, K, E)\n",
        "print(\"----------------------\")\n",
        "print()\n",
        "\n",
        "E = 10\n",
        "print(\"Training start, E = {}\".format(E))\n",
        "mnist_iid_e_10, train_loss_10 = training(model_e_10, rounds, batch_size, lr, mnist_data_train, iid_dict, C, K, E)\n",
        "print(\"----------------------\")\n",
        "print()\n",
        "\n",
        "# E = 20\n",
        "# print(\"Training start, E = {}\".format(E))\n",
        "# mnist_iid_e_20, train_loss_20 = training(model_e_20, rounds, batch_size, lr, mnist_data_train, iid_dict, C, K, E)\n",
        "# print(\"----------------------\")\n",
        "# print()"
      ]
    },
    {
      "cell_type": "code",
      "execution_count": 15,
      "metadata": {},
      "outputs": [
        {
          "data": {
            "image/png": "[encoded data removed]",
            "text/plain": [
              "<Figure size 640x480 with 1 Axes>"
            ]
          },
          "metadata": {},
          "output_type": "display_data"
        }
      ],
      "source": [
        "x = np.arange(rounds)\n",
        "plt.plot(x, train_loss_1, label=\"E = 1\")\n",
        "plt.plot(x, train_loss_5, label=\"E = 5\")\n",
        "plt.plot(x, train_loss_10, label=\"E = 10\")\n",
        "plt.title(\"IID data distribution MNIST\")\n",
        "plt.legend()\n",
        "plt.show()"
      ]
    },
    {
      "attachments": {},
      "cell_type": "markdown",
      "metadata": {
        "id": "6N_QPI3Pm0M_"
      },
      "source": [
        "### Test (IID)\n",
        "* Rounds = 100 fixed, varying local epochs (E)"
      ]
    },
    {
      "cell_type": "code",
      "execution_count": 17,
      "metadata": {
        "colab": {
          "base_uri": "https://localhost:8080/"
        },
        "id": "70niGyBkk4Bu",
        "outputId": "1611444f-740e-439d-be7d-898b2363aa6b"
      },
      "outputs": [
        {
          "name": "stdout",
          "output_type": "stream",
          "text": [
            "Training start, E = 1\n",
            "Test Loss: 1.513400\n",
            "\n",
            "Test Accuracy of     0: 98% (75/76)\n",
            "Test Accuracy of     1: 95% (86/90)\n",
            "Test Accuracy of     2: 95% (87/91)\n",
            "Test Accuracy of     3: 97% (71/73)\n",
            "Test Accuracy of     4: 96% (86/89)\n",
            "Test Accuracy of     5: 91% (62/68)\n",
            "Test Accuracy of     6: 96% (60/62)\n",
            "Test Accuracy of     7: 92% (75/81)\n",
            "Test Accuracy of     8: 98% (76/77)\n",
            "Test Accuracy of     9: 92% (77/83)\n",
            "\n",
            "Final Test  Accuracy: 95.570 (755.0/790.0)\n",
            "----------------------\n",
            "\n",
            "Training start, E = 5\n",
            "Test Loss: 1.490627\n",
            "\n",
            "Test Accuracy of     0: 100% (76/76)\n",
            "Test Accuracy of     1: 96% (87/90)\n",
            "Test Accuracy of     2: 97% (89/91)\n",
            "Test Accuracy of     3: 97% (71/73)\n",
            "Test Accuracy of     4: 97% (87/89)\n",
            "Test Accuracy of     5: 95% (65/68)\n",
            "Test Accuracy of     6: 96% (60/62)\n",
            "Test Accuracy of     7: 96% (78/81)\n",
            "Test Accuracy of     8: 98% (76/77)\n",
            "Test Accuracy of     9: 97% (81/83)\n",
            "\n",
            "Final Test  Accuracy: 97.468 (770.0/790.0)\n",
            "----------------------\n",
            "\n",
            "Training start, E = 10\n",
            "Test Loss: 1.488675\n",
            "\n",
            "Test Accuracy of     0: 100% (76/76)\n",
            "Test Accuracy of     1: 98% (89/90)\n",
            "Test Accuracy of     2: 98% (90/91)\n",
            "Test Accuracy of     3: 98% (72/73)\n",
            "Test Accuracy of     4: 97% (87/89)\n",
            "Test Accuracy of     5: 95% (65/68)\n",
            "Test Accuracy of     6: 98% (61/62)\n",
            "Test Accuracy of     7: 97% (79/81)\n",
            "Test Accuracy of     8: 100% (77/77)\n",
            "Test Accuracy of     9: 96% (80/83)\n",
            "\n",
            "Final Test  Accuracy: 98.228 (776.0/790.0)\n",
            "----------------------\n",
            "\n"
          ]
        }
      ],
      "source": [
        "criterion = nn.CrossEntropyLoss()\n",
        "\n",
        "E = 1\n",
        "print(\"Training start, E = {}\".format(E))\n",
        "testing(mnist_iid_e_1, mnist_data_test, 128, criterion, num_classes_mnist, classes_test_mnist)\n",
        "print(\"----------------------\")\n",
        "print()\n",
        "\n",
        "E = 5\n",
        "print(\"Training start, E = {}\".format(E))\n",
        "testing(mnist_iid_e_5, mnist_data_test, 128, criterion, num_classes_mnist, classes_test_mnist)\n",
        "print(\"----------------------\")\n",
        "print()\n",
        "\n",
        "E = 10\n",
        "print(\"Training start, E = {}\".format(E))\n",
        "testing(mnist_iid_e_10, mnist_data_test, 128, criterion, num_classes_mnist, classes_test_mnist)\n",
        "print(\"----------------------\")\n",
        "print()"
      ]
    },
    {
      "cell_type": "markdown",
      "metadata": {
        "id": "BRuuB8_3nIdD"
      },
      "source": [
        "### Train (Non IID)"
      ]
    },
    {
      "cell_type": "code",
      "execution_count": 18,
      "metadata": {
        "colab": {
          "base_uri": "https://localhost:8080/",
          "height": 1000
        },
        "id": "sZw1DJr0nKVn",
        "outputId": "3d7870e8-3d48-4a48-a41a-cf66bd4ff34b"
      },
      "outputs": [],
      "source": [
        "non_iid_dict = non_iid_partition(mnist_data_train, 100, 200, 300, 2, 'MNIST')\n",
        "model_non_e_1 = LeNet()\n",
        "model_non_e_5 = LeNet()\n",
        "model_non_e_10 = LeNet()\n",
        "model_non_e_20 = LeNet()\n",
        "\n",
        "if torch.cuda.is_available():\n",
        "    model_non_e_1.cuda()\n",
        "    model_non_e_5.cuda()\n",
        "    model_non_e_10.cuda()\n",
        "    model_non_e_20.cuda()"
      ]
    },
    {
      "cell_type": "code",
      "execution_count": 24,
      "metadata": {},
      "outputs": [
        {
          "name": "stdout",
          "output_type": "stream",
          "text": [
            "Training start, E = 1\n"
          ]
        },
        {
          "name": "stderr",
          "output_type": "stream",
          "text": [
            "100%|██████████| 100/100 [06:11<00:00,  3.71s/it]"
          ]
        },
        {
          "name": "stdout",
          "output_type": "stream",
          "text": [
            "Training Done!\n",
            "Total time taken to Train: 371.3835062980652\n",
            "----------------------\n",
            "\n"
          ]
        },
        {
          "name": "stderr",
          "output_type": "stream",
          "text": [
            "\n"
          ]
        }
      ],
      "source": [
        "E = 1\n",
        "print(\"Training start, E = {}\".format(E))\n",
        "mnist_non_iid_e_1, train_loss_non_1 = training(model_non_e_1, rounds, batch_size, lr, mnist_data_train, non_iid_dict, C, K, E)\n",
        "print(\"----------------------\")\n",
        "print()"
      ]
    },
    {
      "cell_type": "code",
      "execution_count": 25,
      "metadata": {},
      "outputs": [
        {
          "name": "stdout",
          "output_type": "stream",
          "text": [
            "Training start, E = 5\n"
          ]
        },
        {
          "name": "stderr",
          "output_type": "stream",
          "text": [
            "100%|██████████| 100/100 [29:40<00:00, 17.81s/it]"
          ]
        },
        {
          "name": "stdout",
          "output_type": "stream",
          "text": [
            "Training Done!\n",
            "Total time taken to Train: 1780.567470550537\n",
            "----------------------\n",
            "\n"
          ]
        },
        {
          "name": "stderr",
          "output_type": "stream",
          "text": [
            "\n"
          ]
        }
      ],
      "source": [
        "E = 5\n",
        "print(\"Training start, E = {}\".format(E))\n",
        "mnist_non_iid_e_5, train_loss_non_5 = training(model_non_e_5, rounds, batch_size, lr, mnist_data_train, non_iid_dict, C, K, E)\n",
        "print(\"----------------------\")\n",
        "print()"
      ]
    },
    {
      "cell_type": "code",
      "execution_count": 26,
      "metadata": {},
      "outputs": [
        {
          "name": "stdout",
          "output_type": "stream",
          "text": [
            "Training start, E = 10\n"
          ]
        },
        {
          "name": "stderr",
          "output_type": "stream",
          "text": [
            "100%|██████████| 100/100 [59:58<00:00, 35.99s/it]"
          ]
        },
        {
          "name": "stdout",
          "output_type": "stream",
          "text": [
            "Training Done!\n",
            "Total time taken to Train: 3598.6398651599884\n",
            "----------------------\n",
            "\n"
          ]
        },
        {
          "name": "stderr",
          "output_type": "stream",
          "text": [
            "\n"
          ]
        }
      ],
      "source": [
        "E = 10\n",
        "print(\"Training start, E = {}\".format(E))\n",
        "mnist_non_iid_e_10, train_loss_non_10 = training(model_non_e_10, rounds, batch_size, lr, mnist_data_train, non_iid_dict, C, K, E)\n",
        "print(\"----------------------\")\n",
        "print()"
      ]
    },
    {
      "cell_type": "code",
      "execution_count": 29,
      "metadata": {},
      "outputs": [
        {
          "data": {
            "image/png": "[encoded data removed]",
            "text/plain": [
              "<Figure size 640x480 with 1 Axes>"
            ]
          },
          "metadata": {},
          "output_type": "display_data"
        }
      ],
      "source": [
        "x = np.arange(rounds)\n",
        "plt.plot(x, train_loss_non_1, label=\"E = 1\")\n",
        "plt.plot(x, train_loss_non_5, label=\"E = 5\")\n",
        "plt.plot(x, train_loss_non_10, label=\"E = 10\")\n",
        "plt.title(\"Non IID data distribution MNIST\")\n",
        "plt.legend()\n",
        "plt.show()"
      ]
    },
    {
      "cell_type": "markdown",
      "metadata": {
        "id": "NjnsGTpK76dj"
      },
      "source": [
        "### Test (Non IID)"
      ]
    },
    {
      "cell_type": "code",
      "execution_count": 28,
      "metadata": {},
      "outputs": [
        {
          "name": "stdout",
          "output_type": "stream",
          "text": [
            "Training start, E = 1\n",
            "Test Loss: 1.725643\n",
            "\n",
            "Test Accuracy of     0: 97% (74/76)\n",
            "Test Accuracy of     1: 94% (85/90)\n",
            "Test Accuracy of     2: 72% (66/91)\n",
            "Test Accuracy of     3: 82% (60/73)\n",
            "Test Accuracy of     4: 91% (81/89)\n",
            "Test Accuracy of     5: 89% (61/68)\n",
            "Test Accuracy of     6: 95% (59/62)\n",
            "Test Accuracy of     7: 90% (73/81)\n",
            "Test Accuracy of     8: 92% (71/77)\n",
            "Test Accuracy of     9: 25% (21/83)\n",
            "\n",
            "Final Test  Accuracy: 82.405 (651.0/790.0)\n",
            "----------------------\n",
            "\n",
            "Training start, E = 5\n",
            "Test Loss: 1.615294\n",
            "\n",
            "Test Accuracy of     0: 98% (75/76)\n",
            "Test Accuracy of     1: 90% (81/90)\n",
            "Test Accuracy of     2: 91% (83/91)\n",
            "Test Accuracy of     3: 93% (68/73)\n",
            "Test Accuracy of     4: 96% (86/89)\n",
            "Test Accuracy of     5: 94% (64/68)\n",
            "Test Accuracy of     6: 91% (57/62)\n",
            "Test Accuracy of     7: 91% (74/81)\n",
            "Test Accuracy of     8: 98% (76/77)\n",
            "Test Accuracy of     9: 69% (58/83)\n",
            "\n",
            "Final Test  Accuracy: 91.392 (722.0/790.0)\n",
            "----------------------\n",
            "\n",
            "Training start, E = 10\n",
            "Test Loss: 1.632075\n",
            "\n",
            "Test Accuracy of     0: 97% (74/76)\n",
            "Test Accuracy of     1: 97% (88/90)\n",
            "Test Accuracy of     2: 94% (86/91)\n",
            "Test Accuracy of     3: 94% (69/73)\n",
            "Test Accuracy of     4: 97% (87/89)\n",
            "Test Accuracy of     5: 98% (67/68)\n",
            "Test Accuracy of     6: 93% (58/62)\n",
            "Test Accuracy of     7: 86% (70/81)\n",
            "Test Accuracy of     8:  0% ( 0/77)\n",
            "Test Accuracy of     9: 97% (81/83)\n",
            "\n",
            "Final Test  Accuracy: 86.076 (680.0/790.0)\n",
            "----------------------\n",
            "\n"
          ]
        }
      ],
      "source": [
        "criterion = nn.CrossEntropyLoss()\n",
        "\n",
        "E = 1\n",
        "print(\"Training start, E = {}\".format(E))\n",
        "testing(mnist_non_iid_e_1, mnist_data_test, 128, criterion, num_classes_mnist, classes_test_mnist)\n",
        "print(\"----------------------\")\n",
        "print()\n",
        "\n",
        "E = 5\n",
        "print(\"Training start, E = {}\".format(E))\n",
        "testing(mnist_non_iid_e_5, mnist_data_test, 128, criterion, num_classes_mnist, classes_test_mnist)\n",
        "print(\"----------------------\")\n",
        "print()\n",
        "\n",
        "E = 10\n",
        "print(\"Training start, E = {}\".format(E))\n",
        "testing(mnist_non_iid_e_10, mnist_data_test, 128, criterion, num_classes_mnist, classes_test_mnist)\n",
        "print(\"----------------------\")\n",
        "print()"
      ]
    },
    {
      "cell_type": "code",
      "execution_count": null,
      "metadata": {},
      "outputs": [],
      "source": []
    }
  ],
  "metadata": {
    "accelerator": "GPU",
    "colab": {
      "collapsed_sections": [
        "afI-0N__myBB",
        "6N_QPI3Pm0M_",
        "BRuuB8_3nIdD",
        "EYBb90KGQXsd"
      ],
      "provenance": []
    },
    "gpuClass": "standard",
    "kernelspec": {
      "display_name": "Python 3",
      "name": "python3"
    },
    "language_info": {
      "codemirror_mode": {
        "name": "ipython",
        "version": 3
      },
      "file_extension": ".py",
      "mimetype": "text/x-python",
      "name": "python",
      "nbconvert_exporter": "python",
      "pygments_lexer": "ipython3",
      "version": "3.10.4"
    }
  },
  "nbformat": 4,
  "nbformat_minor": 0
}
